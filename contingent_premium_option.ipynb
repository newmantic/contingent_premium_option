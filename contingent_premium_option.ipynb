{
  "nbformat": 4,
  "nbformat_minor": 0,
  "metadata": {
    "colab": {
      "provenance": [],
      "authorship_tag": "ABX9TyME0dums3zknd59FJWgsngx",
      "include_colab_link": true
    },
    "kernelspec": {
      "name": "python3",
      "display_name": "Python 3"
    },
    "language_info": {
      "name": "python"
    }
  },
  "cells": [
    {
      "cell_type": "markdown",
      "metadata": {
        "id": "view-in-github",
        "colab_type": "text"
      },
      "source": [
        "<a href=\"https://colab.research.google.com/github/newmantic/contingent_premium_option/blob/main/contingent_premium_option.ipynb\" target=\"_parent\"><img src=\"https://colab.research.google.com/assets/colab-badge.svg\" alt=\"Open In Colab\"/></a>"
      ]
    },
    {
      "cell_type": "code",
      "execution_count": 1,
      "metadata": {
        "colab": {
          "base_uri": "https://localhost:8080/"
        },
        "id": "omVKHQYFjhFM",
        "outputId": "0d3caa07-b2e6-49ef-cee5-26790b72dd08"
      },
      "outputs": [
        {
          "output_type": "stream",
          "name": "stdout",
          "text": [
            "Simulated Final Price: 160.58\n",
            "Payoff of the Contingent Premium Option: 55.58\n"
          ]
        }
      ],
      "source": [
        "import numpy as np\n",
        "\n",
        "class ContingentPremiumOption:\n",
        "    def __init__(self, strike_price, premium, maturity, risk_free_rate, volatility, is_call=True):\n",
        "        \"\"\"\n",
        "        Initializes the Contingent Premium Option.\n",
        "\n",
        "        :param strike_price: The strike price of the option\n",
        "        :param premium: The premium to be paid if the option ends up in the money\n",
        "        :param maturity: The time (in years) until the option expires\n",
        "        :param risk_free_rate: The risk-free interest rate\n",
        "        :param volatility: The volatility of the underlying asset\n",
        "        :param is_call: True for Call option, False for Put option\n",
        "        \"\"\"\n",
        "        self.strike_price = strike_price\n",
        "        self.premium = premium\n",
        "        self.maturity = maturity\n",
        "        self.risk_free_rate = risk_free_rate\n",
        "        self.volatility = volatility\n",
        "        self.is_call = is_call\n",
        "\n",
        "    def calculate_payoff(self, final_price):\n",
        "        \"\"\"\n",
        "        Calculates the payoff of the Contingent Premium Option.\n",
        "\n",
        "        :param final_price: The price of the underlying asset at maturity\n",
        "        :return: The net payoff amount considering the contingent premium\n",
        "        \"\"\"\n",
        "        if self.is_call:\n",
        "            intrinsic_value = max(final_price - self.strike_price, 0)\n",
        "        else:\n",
        "            intrinsic_value = max(self.strike_price - final_price, 0)\n",
        "\n",
        "        if intrinsic_value > 0:\n",
        "            net_payoff = intrinsic_value - self.premium\n",
        "        else:\n",
        "            net_payoff = 0\n",
        "\n",
        "        return net_payoff\n",
        "\n",
        "    def simulate_final_price(self):\n",
        "        \"\"\"\n",
        "        Simulates the final price of the underlying asset at maturity using the Geometric Brownian Motion model.\n",
        "\n",
        "        :return: Simulated final price of the underlying asset at maturity\n",
        "        \"\"\"\n",
        "        dt = self.maturity\n",
        "        random_shock = np.random.normal(0, 1)\n",
        "        final_price = self.strike_price * np.exp(\n",
        "            (self.risk_free_rate - 0.5 * self.volatility ** 2) * dt + self.volatility * np.sqrt(dt) * random_shock\n",
        "        )\n",
        "        return final_price\n",
        "\n",
        "# Example usage\n",
        "if __name__ == \"__main__\":\n",
        "    # Parameters for the Contingent Premium Option\n",
        "    strike_price = 100\n",
        "    premium = 5\n",
        "    maturity = 1.0  # 1 year\n",
        "    risk_free_rate = 0.05  # 5% risk-free rate\n",
        "    volatility = 0.2  # 20% volatility\n",
        "\n",
        "    # Create a Contingent Premium Call Option instance\n",
        "    contingent_option = ContingentPremiumOption(\n",
        "        strike_price=strike_price,\n",
        "        premium=premium,\n",
        "        maturity=maturity,\n",
        "        risk_free_rate=risk_free_rate,\n",
        "        volatility=volatility,\n",
        "        is_call=True\n",
        "    )\n",
        "\n",
        "    # Simulate the final price of the underlying asset at maturity\n",
        "    final_price = contingent_option.simulate_final_price()\n",
        "    print(f\"Simulated Final Price: {final_price:.2f}\")\n",
        "\n",
        "    # Calculate the payoff of the Contingent Premium Option\n",
        "    payoff = contingent_option.calculate_payoff(final_price)\n",
        "    print(f\"Payoff of the Contingent Premium Option: {payoff:.2f}\")"
      ]
    }
  ]
}